{
 "cells": [
  {
   "cell_type": "markdown",
   "metadata": {},
   "source": [
    "# Esercizio\n"
   ]
  },
  {
   "cell_type": "code",
   "execution_count": 52,
   "metadata": {},
   "outputs": [],
   "source": [
    "import numpy as np\n",
    "import scipy.sparse as sp\n",
    "import gurobipy as gp\n",
    "from gurobipy import GRB\n",
    "\n",
    "# Dimensioni scacchiera:\n",
    "n = 256\n",
    "\n",
    "# Creazione modello:\n",
    "m = gp.Model(\"NQUEENS\")\n",
    "\n",
    "# Introduciamo le variabili decisionali:\n",
    "x = m.addMVar((n, n), vtype=GRB.BINARY, name=\"x\")"
   ]
  },
  {
   "cell_type": "markdown",
   "metadata": {},
   "source": [
    "# Funzione Obiettivo\n"
   ]
  },
  {
   "cell_type": "code",
   "execution_count": 53,
   "metadata": {},
   "outputs": [],
   "source": [
    "# Funzione obiettivo: massimizzare il numero delle regine presenti (n):\n",
    "m.setObjective(x.sum(), GRB.MAXIMIZE)"
   ]
  },
  {
   "cell_type": "markdown",
   "metadata": {},
   "source": [
    "# Vincoli (versione 1)\n"
   ]
  },
  {
   "cell_type": "code",
   "execution_count": 54,
   "metadata": {},
   "outputs": [],
   "source": [
    "\n",
    "# Per ogni riga/colonna valgono i seguenti constraints:\n",
    "for i in range(n):\n",
    "\n",
    "    # Al massimo una regina per riga:\n",
    "    m.addConstr(x[i, :].sum() <= 1, name=\"row\"+str(i))\n",
    "\n",
    "    # Al massimo una regina per colonna:\n",
    "    m.addConstr(x[:, i].sum() <= 1, name=\"col\"+str(i))\n",
    "\n",
    "# Per ogni diagonale devono valere i seguenti constraints: (sono 2n-1 diagonali)\n",
    "for k in range(1, 2*n):\n",
    "\n",
    "    # Al massimo una regina per ogni diagonale:\n",
    "\n",
    "    # NB: Elenco gli indici delle diagonali: (da dx in basso a sx in alto)\n",
    "    # righe i:   -  colonne j:\n",
    "    # range(0,1) ,  range(1,0).\n",
    "    # range(0,2) ,  range(2,0).\n",
    "    # range(0,3) ,  range(3,0)...\n",
    "    #(range parte da sx e arriva a dx-1)\n",
    "    \n",
    "    diagn = (range(max(0, k-n), min(n, k)), range(min(n, k)-1, max(0, k-n)-1, -1))\n",
    "    m.addConstr(x[diagn].sum() <= 1, name=\"diag\"+str(k))\n",
    "\n",
    "    # Al massimo una regina per ogni anti-diagonale:\n",
    "\n",
    "\n",
    "    # NB: Elenco gli indici delle anti-diagonali: (sx in basso a dx in alto)\n",
    "    # righe i:   -  colonne j:\n",
    "    # range(0,1) ,  range(7,8).\n",
    "    # range(0,2) ,  range(6,8).\n",
    "    # range(0,3) ,  range(5,8)...\n",
    "    adiagn = (range(max(0, k-n), min(n, k)), range(max(0, n-k), min(n, 2*n-k)))\n",
    "    m.addConstr(x[adiagn].sum() <= 1, name=\"adiag\"+str(k))\n"
   ]
  },
  {
   "cell_type": "markdown",
   "metadata": {},
   "source": [
    "# Vincoli (versione 2)"
   ]
  },
  {
   "cell_type": "code",
   "execution_count": 55,
   "metadata": {},
   "outputs": [],
   "source": [
    "# Per ogni riga/colonna valgono i seguenti constraints:\n",
    "for i in range(n):\n",
    "\n",
    "    # Al massimo una regina per riga:\n",
    "    m.addConstr(x[i, :].sum() <= 1, name=\"row\"+str(i))\n",
    "\n",
    "    # Al massimo una regina per colonna:\n",
    "    m.addConstr(x[:, i].sum() <= 1, name=\"col\"+str(i))\n",
    "\n",
    "# Vincolo diag:\n",
    "# Elenco tutti gli indici da considerare per ogni diag nella somma (vettori I e J)\n",
    "\n",
    "for k in range(1-n,n-1):\n",
    "    I = [] \n",
    "    J = []\n",
    "    for i in range(n):\n",
    "        for j in range(n):\n",
    "            if (i-j)==k:\n",
    "                I.append(i)\n",
    "                J.append(j)\n",
    "    m.addConstr(x[I,J].sum() <= 1, name=\"diag\"+str(k))\n",
    "    \n",
    "\n",
    "# Vincolo adiag:\n",
    "# Elenco tutti gli indici da considerare per ogni adiag nella somma (vettori I e J)\n",
    "\n",
    "for k in range(2,2*n):\n",
    "    I = [] \n",
    "    J = []\n",
    "    for i in range(n):\n",
    "        for j in range(n):\n",
    "            if (i+j)==k:\n",
    "                I.append(i)\n",
    "                J.append(j)\n",
    "    m.addConstr(x[I,J].sum() <= 1, name=\"adiag\"+str(k))\n"
   ]
  },
  {
   "cell_type": "code",
   "execution_count": 56,
   "metadata": {},
   "outputs": [
    {
     "name": "stdout",
     "output_type": "stream",
     "text": [
      "Gurobi Optimizer version 9.1.2 build v9.1.2rc0 (mac64)\n",
      "Thread count: 8 physical cores, 8 logical processors, using up to 8 threads\n",
      "Optimize a model with 90 rows, 64 columns and 508 nonzeros\n",
      "Model fingerprint: 0x28c0a1c5\n",
      "Variable types: 0 continuous, 64 integer (64 binary)\n",
      "Coefficient statistics:\n",
      "  Matrix range     [1e+00, 1e+00]\n",
      "  Objective range  [1e+00, 1e+00]\n",
      "  Bounds range     [1e+00, 1e+00]\n",
      "  RHS range        [1e+00, 1e+00]\n",
      "Found heuristic solution: objective 5.0000000\n",
      "Presolve removed 48 rows and 0 columns\n",
      "Presolve time: 0.00s\n",
      "Presolved: 42 rows, 64 columns, 269 nonzeros\n",
      "Variable types: 0 continuous, 64 integer (64 binary)\n",
      "\n",
      "Root relaxation: objective 8.000000e+00, 52 iterations, 0.00 seconds\n",
      "\n",
      "    Nodes    |    Current Node    |     Objective Bounds      |     Work\n",
      " Expl Unexpl |  Obj  Depth IntInf | Incumbent    BestBd   Gap | It/Node Time\n",
      "\n",
      "H    0     0                       8.0000000   64.00000   700%     -    0s\n",
      "     0     0          -    0         8.00000    8.00000  0.00%     -    0s\n",
      "\n",
      "Explored 0 nodes (82 simplex iterations) in 0.01 seconds\n",
      "Thread count was 8 (of 8 available processors)\n",
      "\n",
      "Solution count 2: 8 5 \n",
      "\n",
      "Optimal solution found (tolerance 1.00e-04)\n",
      "Best objective 8.000000000000e+00, best bound 8.000000000000e+00, gap 0.0000%\n",
      "[[0. 0. 0. 0. 1. 0. 0. 0.]\n",
      " [0. 1. 0. 0. 0. 0. 0. 0.]\n",
      " [0. 0. 0. 1. 0. 0. 0. 0.]\n",
      " [0. 0. 0. 0. 0. 0. 1. 0.]\n",
      " [0. 0. 1. 0. 0. 0. 0. 0.]\n",
      " [0. 0. 0. 0. 0. 0. 0. 1.]\n",
      " [0. 0. 0. 0. 0. 1. 0. 0.]\n",
      " [1. 0. 0. 0. 0. 0. 0. 0.]]\n",
      "Queens placed: 8\n"
     ]
    }
   ],
   "source": [
    "# Ottimizzazione\n",
    "m.optimize()\n",
    "\n",
    "print(x.X)\n",
    "print('Queens placed: %g' % m.ObjVal)"
   ]
  },
  {
   "cell_type": "code",
   "execution_count": 57,
   "metadata": {},
   "outputs": [],
   "source": [
    "# Rappresentazione grafica del risultato ottenuto:\n",
    "\n",
    "GRID_SIZE = n\n",
    "ris = x.X\n",
    "\n",
    "def create_grid():\n",
    "    \"\"\"Creates the grid return=an array that represents the grid\"\"\"\n",
    "\n",
    "    tab = []\n",
    "    for i in range(GRID_SIZE):\n",
    "        tab.append([])\n",
    "        for j in range(GRID_SIZE):\n",
    "            tab[i].append(\"\")\n",
    "    return tab\n",
    "    \n",
    "def print_grid(tab):\n",
    "    \"\"\"prints the grid\"\"\"\n",
    "\n",
    "    for i in range(GRID_SIZE):\n",
    "        print(\"{} \".format(i + 1), end=\"\")\n",
    "        for j in range(GRID_SIZE):\n",
    "              \n",
    "            if ris[i][j] == 1:\n",
    "              print(\"\\u2655{}\".format(tab[i][j]), end=\"\")\n",
    "            else:\n",
    "              print(\"--\".format(tab[i][j]), end=\"\")\n",
    "            if j < GRID_SIZE:\n",
    "                print(\"|\", end=\"\")\n",
    "\n",
    "        if i < GRID_SIZE:\n",
    "            print()"
   ]
  },
  {
   "cell_type": "code",
   "execution_count": 58,
   "metadata": {},
   "outputs": [
    {
     "name": "stdout",
     "output_type": "stream",
     "text": [
      "Soluzione Ottenuta: \n",
      "Dispsizione scacchiera:\n",
      "1 --|--|--|--|♕|--|--|--|\n",
      "2 --|♕|--|--|--|--|--|--|\n",
      "3 --|--|--|♕|--|--|--|--|\n",
      "4 --|--|--|--|--|--|♕|--|\n",
      "5 --|--|♕|--|--|--|--|--|\n",
      "6 --|--|--|--|--|--|--|♕|\n",
      "7 --|--|--|--|--|♕|--|--|\n",
      "8 ♕|--|--|--|--|--|--|--|\n"
     ]
    }
   ],
   "source": [
    "\n",
    "#ricorda che le regine possono essere piazzate sulle colonne da 0 a N-1\n",
    "print(\"Soluzione Ottenuta: \")\n",
    "print(\"Dispsizione scacchiera:\")\n",
    "print_grid(create_grid())"
   ]
  }
 ],
 "metadata": {
  "interpreter": {
   "hash": "f5168073836a410171b745496a9936ca98413cd2bffda31fb0c034b0bf40bf31"
  },
  "kernelspec": {
   "display_name": "Python 3 (ipykernel)",
   "language": "python",
   "name": "python3"
  },
  "language_info": {
   "codemirror_mode": {
    "name": "ipython",
    "version": 3
   },
   "file_extension": ".py",
   "mimetype": "text/x-python",
   "name": "python",
   "nbconvert_exporter": "python",
   "pygments_lexer": "ipython3",
   "version": "3.6.13"
  }
 },
 "nbformat": 4,
 "nbformat_minor": 2
}
